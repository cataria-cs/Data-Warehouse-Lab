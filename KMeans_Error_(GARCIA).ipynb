{
  "cells": [
    {
      "cell_type": "markdown",
      "metadata": {
        "id": "view-in-github",
        "colab_type": "text"
      },
      "source": [
        "<a href=\"https://colab.research.google.com/github/cataria-cs/Data-Warehouse-Lab/blob/main/KMeans_Error_(GARCIA).ipynb\" target=\"_parent\"><img src=\"https://colab.research.google.com/assets/colab-badge.svg\" alt=\"Open In Colab\"/></a>"
      ]
    },
    {
      "cell_type": "code",
      "execution_count": null,
      "id": "5fae3849",
      "metadata": {
        "id": "5fae3849"
      },
      "outputs": [],
      "source": [
        "from sklearn.cluster import KMeans\n",
        "import pandas as pd\n",
        "from sklearn.preprocessing import MinMaxScaler\n",
        "from matplotlib import pyplot as plt\n",
        "from sklearn.cluster import KMeans\n",
        "import numpy as np\n",
        "from sklearn import metrics\n",
        "from scipy.spatial.distance import cdist\n",
        "%matplotlib inline\n"
      ]
    },
    {
      "cell_type": "code",
      "execution_count": null,
      "id": "7dba4a79",
      "metadata": {
        "colab": {
          "base_uri": "https://localhost:8080/",
          "height": 344
        },
        "id": "7dba4a79",
        "outputId": "3df47d93-aba6-4d89-ffa5-70e57857aa90"
      },
      "outputs": [
        {
          "output_type": "execute_result",
          "data": {
            "text/plain": [
              "   #        Country  Daily Oil Consumption (Barrels) World Share  \\\n",
              "0  1  United States                         19687287      20.30%   \n",
              "1  2          China                         12791553      13.20%   \n",
              "2  3          India                          4443000       4.60%   \n",
              "3  4          Japan                          4012877       4.10%   \n",
              "4  5         Russia                          3631287       3.70%   \n",
              "5  6   Saudi Arabia                          3302000       3.40%   \n",
              "6  7         Brazil                          2984000       3.10%   \n",
              "7  8    South Korea                          2605440       2.70%   \n",
              "\n",
              "   Yearly Gallons Per Capita  Price Per Gallon (USD)  Price Per Liter (USD)  \\\n",
              "0                      934.3                    5.19                   1.37   \n",
              "1                      138.7                    5.42                   1.43   \n",
              "2                       51.4                    5.05                   1.33   \n",
              "3                      481.5                    4.69                   1.24   \n",
              "4                      383.2                    3.41                   0.90   \n",
              "5                     1560.2                    2.35                   0.62   \n",
              "6                      221.9                    5.36                   1.42   \n",
              "7                      783.4                    6.09                   1.61   \n",
              "\n",
              "   Price Per Liter (PKR)  \n",
              "0                 289.97  \n",
              "1                 302.87  \n",
              "2                 281.93  \n",
              "3                 262.05  \n",
              "4                 190.56  \n",
              "5                 131.34  \n",
              "6                 299.27  \n",
              "7                 340.52  "
            ],
            "text/html": [
              "\n",
              "  <div id=\"df-7ee42f53-d548-4314-a95b-fbb20f5909f3\">\n",
              "    <div class=\"colab-df-container\">\n",
              "      <div>\n",
              "<style scoped>\n",
              "    .dataframe tbody tr th:only-of-type {\n",
              "        vertical-align: middle;\n",
              "    }\n",
              "\n",
              "    .dataframe tbody tr th {\n",
              "        vertical-align: top;\n",
              "    }\n",
              "\n",
              "    .dataframe thead th {\n",
              "        text-align: right;\n",
              "    }\n",
              "</style>\n",
              "<table border=\"1\" class=\"dataframe\">\n",
              "  <thead>\n",
              "    <tr style=\"text-align: right;\">\n",
              "      <th></th>\n",
              "      <th>#</th>\n",
              "      <th>Country</th>\n",
              "      <th>Daily Oil Consumption (Barrels)</th>\n",
              "      <th>World Share</th>\n",
              "      <th>Yearly Gallons Per Capita</th>\n",
              "      <th>Price Per Gallon (USD)</th>\n",
              "      <th>Price Per Liter (USD)</th>\n",
              "      <th>Price Per Liter (PKR)</th>\n",
              "    </tr>\n",
              "  </thead>\n",
              "  <tbody>\n",
              "    <tr>\n",
              "      <th>0</th>\n",
              "      <td>1</td>\n",
              "      <td>United States</td>\n",
              "      <td>19687287</td>\n",
              "      <td>20.30%</td>\n",
              "      <td>934.3</td>\n",
              "      <td>5.19</td>\n",
              "      <td>1.37</td>\n",
              "      <td>289.97</td>\n",
              "    </tr>\n",
              "    <tr>\n",
              "      <th>1</th>\n",
              "      <td>2</td>\n",
              "      <td>China</td>\n",
              "      <td>12791553</td>\n",
              "      <td>13.20%</td>\n",
              "      <td>138.7</td>\n",
              "      <td>5.42</td>\n",
              "      <td>1.43</td>\n",
              "      <td>302.87</td>\n",
              "    </tr>\n",
              "    <tr>\n",
              "      <th>2</th>\n",
              "      <td>3</td>\n",
              "      <td>India</td>\n",
              "      <td>4443000</td>\n",
              "      <td>4.60%</td>\n",
              "      <td>51.4</td>\n",
              "      <td>5.05</td>\n",
              "      <td>1.33</td>\n",
              "      <td>281.93</td>\n",
              "    </tr>\n",
              "    <tr>\n",
              "      <th>3</th>\n",
              "      <td>4</td>\n",
              "      <td>Japan</td>\n",
              "      <td>4012877</td>\n",
              "      <td>4.10%</td>\n",
              "      <td>481.5</td>\n",
              "      <td>4.69</td>\n",
              "      <td>1.24</td>\n",
              "      <td>262.05</td>\n",
              "    </tr>\n",
              "    <tr>\n",
              "      <th>4</th>\n",
              "      <td>5</td>\n",
              "      <td>Russia</td>\n",
              "      <td>3631287</td>\n",
              "      <td>3.70%</td>\n",
              "      <td>383.2</td>\n",
              "      <td>3.41</td>\n",
              "      <td>0.90</td>\n",
              "      <td>190.56</td>\n",
              "    </tr>\n",
              "    <tr>\n",
              "      <th>5</th>\n",
              "      <td>6</td>\n",
              "      <td>Saudi Arabia</td>\n",
              "      <td>3302000</td>\n",
              "      <td>3.40%</td>\n",
              "      <td>1560.2</td>\n",
              "      <td>2.35</td>\n",
              "      <td>0.62</td>\n",
              "      <td>131.34</td>\n",
              "    </tr>\n",
              "    <tr>\n",
              "      <th>6</th>\n",
              "      <td>7</td>\n",
              "      <td>Brazil</td>\n",
              "      <td>2984000</td>\n",
              "      <td>3.10%</td>\n",
              "      <td>221.9</td>\n",
              "      <td>5.36</td>\n",
              "      <td>1.42</td>\n",
              "      <td>299.27</td>\n",
              "    </tr>\n",
              "    <tr>\n",
              "      <th>7</th>\n",
              "      <td>8</td>\n",
              "      <td>South Korea</td>\n",
              "      <td>2605440</td>\n",
              "      <td>2.70%</td>\n",
              "      <td>783.4</td>\n",
              "      <td>6.09</td>\n",
              "      <td>1.61</td>\n",
              "      <td>340.52</td>\n",
              "    </tr>\n",
              "  </tbody>\n",
              "</table>\n",
              "</div>\n",
              "      <button class=\"colab-df-convert\" onclick=\"convertToInteractive('df-7ee42f53-d548-4314-a95b-fbb20f5909f3')\"\n",
              "              title=\"Convert this dataframe to an interactive table.\"\n",
              "              style=\"display:none;\">\n",
              "        \n",
              "  <svg xmlns=\"http://www.w3.org/2000/svg\" height=\"24px\"viewBox=\"0 0 24 24\"\n",
              "       width=\"24px\">\n",
              "    <path d=\"M0 0h24v24H0V0z\" fill=\"none\"/>\n",
              "    <path d=\"M18.56 5.44l.94 2.06.94-2.06 2.06-.94-2.06-.94-.94-2.06-.94 2.06-2.06.94zm-11 1L8.5 8.5l.94-2.06 2.06-.94-2.06-.94L8.5 2.5l-.94 2.06-2.06.94zm10 10l.94 2.06.94-2.06 2.06-.94-2.06-.94-.94-2.06-.94 2.06-2.06.94z\"/><path d=\"M17.41 7.96l-1.37-1.37c-.4-.4-.92-.59-1.43-.59-.52 0-1.04.2-1.43.59L10.3 9.45l-7.72 7.72c-.78.78-.78 2.05 0 2.83L4 21.41c.39.39.9.59 1.41.59.51 0 1.02-.2 1.41-.59l7.78-7.78 2.81-2.81c.8-.78.8-2.07 0-2.86zM5.41 20L4 18.59l7.72-7.72 1.47 1.35L5.41 20z\"/>\n",
              "  </svg>\n",
              "      </button>\n",
              "      \n",
              "  <style>\n",
              "    .colab-df-container {\n",
              "      display:flex;\n",
              "      flex-wrap:wrap;\n",
              "      gap: 12px;\n",
              "    }\n",
              "\n",
              "    .colab-df-convert {\n",
              "      background-color: #E8F0FE;\n",
              "      border: none;\n",
              "      border-radius: 50%;\n",
              "      cursor: pointer;\n",
              "      display: none;\n",
              "      fill: #1967D2;\n",
              "      height: 32px;\n",
              "      padding: 0 0 0 0;\n",
              "      width: 32px;\n",
              "    }\n",
              "\n",
              "    .colab-df-convert:hover {\n",
              "      background-color: #E2EBFA;\n",
              "      box-shadow: 0px 1px 2px rgba(60, 64, 67, 0.3), 0px 1px 3px 1px rgba(60, 64, 67, 0.15);\n",
              "      fill: #174EA6;\n",
              "    }\n",
              "\n",
              "    [theme=dark] .colab-df-convert {\n",
              "      background-color: #3B4455;\n",
              "      fill: #D2E3FC;\n",
              "    }\n",
              "\n",
              "    [theme=dark] .colab-df-convert:hover {\n",
              "      background-color: #434B5C;\n",
              "      box-shadow: 0px 1px 3px 1px rgba(0, 0, 0, 0.15);\n",
              "      filter: drop-shadow(0px 1px 2px rgba(0, 0, 0, 0.3));\n",
              "      fill: #FFFFFF;\n",
              "    }\n",
              "  </style>\n",
              "\n",
              "      <script>\n",
              "        const buttonEl =\n",
              "          document.querySelector('#df-7ee42f53-d548-4314-a95b-fbb20f5909f3 button.colab-df-convert');\n",
              "        buttonEl.style.display =\n",
              "          google.colab.kernel.accessAllowed ? 'block' : 'none';\n",
              "\n",
              "        async function convertToInteractive(key) {\n",
              "          const element = document.querySelector('#df-7ee42f53-d548-4314-a95b-fbb20f5909f3');\n",
              "          const dataTable =\n",
              "            await google.colab.kernel.invokeFunction('convertToInteractive',\n",
              "                                                     [key], {});\n",
              "          if (!dataTable) return;\n",
              "\n",
              "          const docLinkHtml = 'Like what you see? Visit the ' +\n",
              "            '<a target=\"_blank\" href=https://colab.research.google.com/notebooks/data_table.ipynb>data table notebook</a>'\n",
              "            + ' to learn more about interactive tables.';\n",
              "          element.innerHTML = '';\n",
              "          dataTable['output_type'] = 'display_data';\n",
              "          await google.colab.output.renderOutput(dataTable, element);\n",
              "          const docLink = document.createElement('div');\n",
              "          docLink.innerHTML = docLinkHtml;\n",
              "          element.appendChild(docLink);\n",
              "        }\n",
              "      </script>\n",
              "    </div>\n",
              "  </div>\n",
              "  "
            ]
          },
          "metadata": {},
          "execution_count": 57
        }
      ],
      "source": [
        "df = pd.read_csv(\"Data-Warehouse/Petrol.csv\", encoding='unicode_escape')\n",
        "df.head(8)"
      ]
    },
    {
      "cell_type": "code",
      "execution_count": null,
      "id": "1bc9c1e8",
      "metadata": {
        "scrolled": false,
        "colab": {
          "base_uri": "https://localhost:8080/",
          "height": 311
        },
        "id": "1bc9c1e8",
        "outputId": "a8ec1e07-05df-43ea-f284-c7bc91ab4f39"
      },
      "outputs": [
        {
          "output_type": "execute_result",
          "data": {
            "text/plain": [
              "Text(0.5, 1.0, 'KMeans Reference')"
            ]
          },
          "metadata": {},
          "execution_count": 58
        },
        {
          "output_type": "display_data",
          "data": {
            "text/plain": [
              "<Figure size 432x288 with 1 Axes>"
            ],
            "image/png": "[encoded data removed]"
          },
          "metadata": {
            "needs_background": "light"
          }
        }
      ],
      "source": [
        "plt.scatter(df['Daily Oil Consumption (Barrels)'], df['Yearly Gallons Per Capita'])\n",
        "plt.title(\"KMeans Reference\")    "
      ]
    },
    {
      "cell_type": "code",
      "execution_count": null,
      "id": "8b9bd428",
      "metadata": {
        "colab": {
          "base_uri": "https://localhost:8080/"
        },
        "id": "8b9bd428",
        "outputId": "47aa826b-42aa-4ee3-dd10-53c7ea701c5c"
      },
      "outputs": [
        {
          "output_type": "stream",
          "name": "stdout",
          "text": [
            "First Iteration\n"
          ]
        },
        {
          "output_type": "execute_result",
          "data": {
            "text/plain": [
              "array([[1.96872870e+07, 9.34300000e+02],\n",
              "       [4.27163528e+05, 3.28660556e+02]])"
            ]
          },
          "metadata": {},
          "execution_count": 59
        }
      ],
      "source": [
        "my_centroids = np.array([[1,1], [2,1]])\n",
        "km = KMeans(n_clusters=2, random_state=0, init=my_centroids, n_init=1, max_iter=1)\n",
        "y_predicted = km.fit_predict(df[['Daily Oil Consumption (Barrels)','Yearly Gallons Per Capita']])\n",
        "y_predicted\n",
        "\n",
        "print('First Iteration')\n",
        "km.cluster_centers_"
      ]
    },
    {
      "cell_type": "code",
      "source": [
        "my_centroids = np.array([[1,1], [2,1]])\n",
        "km = KMeans(n_clusters=2, random_state=0, init=my_centroids, n_init=1, max_iter=2)\n",
        "y_predicted = km.fit_predict(df[['Daily Oil Consumption (Barrels)','Yearly Gallons Per Capita']])\n",
        "y_predicted\n",
        "\n",
        "print('Second Iteration')\n",
        "km.cluster_centers_"
      ],
      "metadata": {
        "colab": {
          "base_uri": "https://localhost:8080/"
        },
        "id": "VuuU_DG-7XGO",
        "outputId": "a10e16e0-b535-48ec-e353-de510bfae91e"
      },
      "id": "VuuU_DG-7XGO",
      "execution_count": null,
      "outputs": [
        {
          "output_type": "stream",
          "name": "stdout",
          "text": [
            "Second Iteration\n"
          ]
        },
        {
          "output_type": "execute_result",
          "data": {
            "text/plain": [
              "array([[1.62394200e+07, 5.36500000e+02],\n",
              "       [3.58088726e+05, 3.29721788e+02]])"
            ]
          },
          "metadata": {},
          "execution_count": 60
        }
      ]
    },
    {
      "cell_type": "code",
      "source": [
        "my_centroids = np.array([[1,1], [2,1]])\n",
        "km = KMeans(n_clusters=2, random_state=0, init=my_centroids, n_init=1, max_iter=3)\n",
        "y_predicted = km.fit_predict(df[['Daily Oil Consumption (Barrels)','Yearly Gallons Per Capita']])\n",
        "y_predicted\n",
        "\n",
        "print('Third Iteration')\n",
        "km.cluster_centers_"
      ],
      "metadata": {
        "colab": {
          "base_uri": "https://localhost:8080/"
        },
        "id": "gCFktdNj7XfM",
        "outputId": "fa2ef51e-08a0-4229-c106-4045c9b62d65"
      },
      "id": "gCFktdNj7XfM",
      "execution_count": null,
      "outputs": [
        {
          "output_type": "stream",
          "name": "stdout",
          "text": [
            "Third Iteration\n"
          ]
        },
        {
          "output_type": "execute_result",
          "data": {
            "text/plain": [
              "array([[1.62394200e+07, 5.36500000e+02],\n",
              "       [3.58088726e+05, 3.29721788e+02]])"
            ]
          },
          "metadata": {},
          "execution_count": 61
        }
      ]
    },
    {
      "cell_type": "code",
      "source": [
        "my_centroids = np.array([[1,1], [2,1]])\n",
        "km = KMeans(n_clusters=2, random_state=0, init=my_centroids, n_init=1, max_iter=4)\n",
        "y_predicted = km.fit_predict(df[['Daily Oil Consumption (Barrels)','Yearly Gallons Per Capita']])\n",
        "y_predicted\n",
        "\n",
        "print('Fourth Iteration')\n",
        "km.cluster_centers_"
      ],
      "metadata": {
        "colab": {
          "base_uri": "https://localhost:8080/"
        },
        "id": "3YONU7kV7Xxp",
        "outputId": "903b2ed1-5253-4499-aefe-484e5560c8a4"
      },
      "id": "3YONU7kV7Xxp",
      "execution_count": null,
      "outputs": [
        {
          "output_type": "stream",
          "name": "stdout",
          "text": [
            "Fourth Iteration\n"
          ]
        },
        {
          "output_type": "execute_result",
          "data": {
            "text/plain": [
              "array([[1.62394200e+07, 5.36500000e+02],\n",
              "       [3.58088726e+05, 3.29721788e+02]])"
            ]
          },
          "metadata": {},
          "execution_count": 62
        }
      ]
    },
    {
      "cell_type": "code",
      "source": [
        "my_centroids = np.array([[1,1], [2,1]])\n",
        "km = KMeans(n_clusters=2, random_state=0, init=my_centroids, n_init=1, max_iter=5)\n",
        "y_predicted = km.fit_predict(df[['Daily Oil Consumption (Barrels)','Yearly Gallons Per Capita']])\n",
        "y_predicted\n",
        "\n",
        "print('Fifth Iteration')\n",
        "km.cluster_centers_"
      ],
      "metadata": {
        "colab": {
          "base_uri": "https://localhost:8080/"
        },
        "id": "UzQKKmZ37YSw",
        "outputId": "29b1165e-fcd2-49bb-b05b-3ea950a3245b"
      },
      "id": "UzQKKmZ37YSw",
      "execution_count": null,
      "outputs": [
        {
          "output_type": "stream",
          "name": "stdout",
          "text": [
            "Fifth Iteration\n"
          ]
        },
        {
          "output_type": "execute_result",
          "data": {
            "text/plain": [
              "array([[1.62394200e+07, 5.36500000e+02],\n",
              "       [3.58088726e+05, 3.29721788e+02]])"
            ]
          },
          "metadata": {},
          "execution_count": 63
        }
      ]
    },
    {
      "cell_type": "code",
      "execution_count": null,
      "id": "002c6900",
      "metadata": {
        "scrolled": false,
        "colab": {
          "base_uri": "https://localhost:8080/",
          "height": 379
        },
        "id": "002c6900",
        "outputId": "fd11c7ee-5842-4870-dde9-c6628f69aa7e"
      },
      "outputs": [
        {
          "output_type": "execute_result",
          "data": {
            "text/plain": [
              "   #        Country  Daily Oil Consumption (Barrels) World Share  \\\n",
              "0  1  United States                         19687287      20.30%   \n",
              "1  2          China                         12791553      13.20%   \n",
              "2  3          India                          4443000       4.60%   \n",
              "3  4          Japan                          4012877       4.10%   \n",
              "4  5         Russia                          3631287       3.70%   \n",
              "5  6   Saudi Arabia                          3302000       3.40%   \n",
              "6  7         Brazil                          2984000       3.10%   \n",
              "7  8    South Korea                          2605440       2.70%   \n",
              "\n",
              "   Yearly Gallons Per Capita  Price Per Gallon (USD)  Price Per Liter (USD)  \\\n",
              "0                      934.3                    5.19                   1.37   \n",
              "1                      138.7                    5.42                   1.43   \n",
              "2                       51.4                    5.05                   1.33   \n",
              "3                      481.5                    4.69                   1.24   \n",
              "4                      383.2                    3.41                   0.90   \n",
              "5                     1560.2                    2.35                   0.62   \n",
              "6                      221.9                    5.36                   1.42   \n",
              "7                      783.4                    6.09                   1.61   \n",
              "\n",
              "   Price Per Liter (PKR)  cluster  \n",
              "0                 289.97        0  \n",
              "1                 302.87        0  \n",
              "2                 281.93        1  \n",
              "3                 262.05        1  \n",
              "4                 190.56        1  \n",
              "5                 131.34        1  \n",
              "6                 299.27        1  \n",
              "7                 340.52        1  "
            ],
            "text/html": [
              "\n",
              "  <div id=\"df-6ac1ac69-e5ba-4560-9970-333786c3ae7c\">\n",
              "    <div class=\"colab-df-container\">\n",
              "      <div>\n",
              "<style scoped>\n",
              "    .dataframe tbody tr th:only-of-type {\n",
              "        vertical-align: middle;\n",
              "    }\n",
              "\n",
              "    .dataframe tbody tr th {\n",
              "        vertical-align: top;\n",
              "    }\n",
              "\n",
              "    .dataframe thead th {\n",
              "        text-align: right;\n",
              "    }\n",
              "</style>\n",
              "<table border=\"1\" class=\"dataframe\">\n",
              "  <thead>\n",
              "    <tr style=\"text-align: right;\">\n",
              "      <th></th>\n",
              "      <th>#</th>\n",
              "      <th>Country</th>\n",
              "      <th>Daily Oil Consumption (Barrels)</th>\n",
              "      <th>World Share</th>\n",
              "      <th>Yearly Gallons Per Capita</th>\n",
              "      <th>Price Per Gallon (USD)</th>\n",
              "      <th>Price Per Liter (USD)</th>\n",
              "      <th>Price Per Liter (PKR)</th>\n",
              "      <th>cluster</th>\n",
              "    </tr>\n",
              "  </thead>\n",
              "  <tbody>\n",
              "    <tr>\n",
              "      <th>0</th>\n",
              "      <td>1</td>\n",
              "      <td>United States</td>\n",
              "      <td>19687287</td>\n",
              "      <td>20.30%</td>\n",
              "      <td>934.3</td>\n",
              "      <td>5.19</td>\n",
              "      <td>1.37</td>\n",
              "      <td>289.97</td>\n",
              "      <td>0</td>\n",
              "    </tr>\n",
              "    <tr>\n",
              "      <th>1</th>\n",
              "      <td>2</td>\n",
              "      <td>China</td>\n",
              "      <td>12791553</td>\n",
              "      <td>13.20%</td>\n",
              "      <td>138.7</td>\n",
              "      <td>5.42</td>\n",
              "      <td>1.43</td>\n",
              "      <td>302.87</td>\n",
              "      <td>0</td>\n",
              "    </tr>\n",
              "    <tr>\n",
              "      <th>2</th>\n",
              "      <td>3</td>\n",
              "      <td>India</td>\n",
              "      <td>4443000</td>\n",
              "      <td>4.60%</td>\n",
              "      <td>51.4</td>\n",
              "      <td>5.05</td>\n",
              "      <td>1.33</td>\n",
              "      <td>281.93</td>\n",
              "      <td>1</td>\n",
              "    </tr>\n",
              "    <tr>\n",
              "      <th>3</th>\n",
              "      <td>4</td>\n",
              "      <td>Japan</td>\n",
              "      <td>4012877</td>\n",
              "      <td>4.10%</td>\n",
              "      <td>481.5</td>\n",
              "      <td>4.69</td>\n",
              "      <td>1.24</td>\n",
              "      <td>262.05</td>\n",
              "      <td>1</td>\n",
              "    </tr>\n",
              "    <tr>\n",
              "      <th>4</th>\n",
              "      <td>5</td>\n",
              "      <td>Russia</td>\n",
              "      <td>3631287</td>\n",
              "      <td>3.70%</td>\n",
              "      <td>383.2</td>\n",
              "      <td>3.41</td>\n",
              "      <td>0.90</td>\n",
              "      <td>190.56</td>\n",
              "      <td>1</td>\n",
              "    </tr>\n",
              "    <tr>\n",
              "      <th>5</th>\n",
              "      <td>6</td>\n",
              "      <td>Saudi Arabia</td>\n",
              "      <td>3302000</td>\n",
              "      <td>3.40%</td>\n",
              "      <td>1560.2</td>\n",
              "      <td>2.35</td>\n",
              "      <td>0.62</td>\n",
              "      <td>131.34</td>\n",
              "      <td>1</td>\n",
              "    </tr>\n",
              "    <tr>\n",
              "      <th>6</th>\n",
              "      <td>7</td>\n",
              "      <td>Brazil</td>\n",
              "      <td>2984000</td>\n",
              "      <td>3.10%</td>\n",
              "      <td>221.9</td>\n",
              "      <td>5.36</td>\n",
              "      <td>1.42</td>\n",
              "      <td>299.27</td>\n",
              "      <td>1</td>\n",
              "    </tr>\n",
              "    <tr>\n",
              "      <th>7</th>\n",
              "      <td>8</td>\n",
              "      <td>South Korea</td>\n",
              "      <td>2605440</td>\n",
              "      <td>2.70%</td>\n",
              "      <td>783.4</td>\n",
              "      <td>6.09</td>\n",
              "      <td>1.61</td>\n",
              "      <td>340.52</td>\n",
              "      <td>1</td>\n",
              "    </tr>\n",
              "  </tbody>\n",
              "</table>\n",
              "</div>\n",
              "      <button class=\"colab-df-convert\" onclick=\"convertToInteractive('df-6ac1ac69-e5ba-4560-9970-333786c3ae7c')\"\n",
              "              title=\"Convert this dataframe to an interactive table.\"\n",
              "              style=\"display:none;\">\n",
              "        \n",
              "  <svg xmlns=\"http://www.w3.org/2000/svg\" height=\"24px\"viewBox=\"0 0 24 24\"\n",
              "       width=\"24px\">\n",
              "    <path d=\"M0 0h24v24H0V0z\" fill=\"none\"/>\n",
              "    <path d=\"M18.56 5.44l.94 2.06.94-2.06 2.06-.94-2.06-.94-.94-2.06-.94 2.06-2.06.94zm-11 1L8.5 8.5l.94-2.06 2.06-.94-2.06-.94L8.5 2.5l-.94 2.06-2.06.94zm10 10l.94 2.06.94-2.06 2.06-.94-2.06-.94-.94-2.06-.94 2.06-2.06.94z\"/><path d=\"M17.41 7.96l-1.37-1.37c-.4-.4-.92-.59-1.43-.59-.52 0-1.04.2-1.43.59L10.3 9.45l-7.72 7.72c-.78.78-.78 2.05 0 2.83L4 21.41c.39.39.9.59 1.41.59.51 0 1.02-.2 1.41-.59l7.78-7.78 2.81-2.81c.8-.78.8-2.07 0-2.86zM5.41 20L4 18.59l7.72-7.72 1.47 1.35L5.41 20z\"/>\n",
              "  </svg>\n",
              "      </button>\n",
              "      \n",
              "  <style>\n",
              "    .colab-df-container {\n",
              "      display:flex;\n",
              "      flex-wrap:wrap;\n",
              "      gap: 12px;\n",
              "    }\n",
              "\n",
              "    .colab-df-convert {\n",
              "      background-color: #E8F0FE;\n",
              "      border: none;\n",
              "      border-radius: 50%;\n",
              "      cursor: pointer;\n",
              "      display: none;\n",
              "      fill: #1967D2;\n",
              "      height: 32px;\n",
              "      padding: 0 0 0 0;\n",
              "      width: 32px;\n",
              "    }\n",
              "\n",
              "    .colab-df-convert:hover {\n",
              "      background-color: #E2EBFA;\n",
              "      box-shadow: 0px 1px 2px rgba(60, 64, 67, 0.3), 0px 1px 3px 1px rgba(60, 64, 67, 0.15);\n",
              "      fill: #174EA6;\n",
              "    }\n",
              "\n",
              "    [theme=dark] .colab-df-convert {\n",
              "      background-color: #3B4455;\n",
              "      fill: #D2E3FC;\n",
              "    }\n",
              "\n",
              "    [theme=dark] .colab-df-convert:hover {\n",
              "      background-color: #434B5C;\n",
              "      box-shadow: 0px 1px 3px 1px rgba(0, 0, 0, 0.15);\n",
              "      filter: drop-shadow(0px 1px 2px rgba(0, 0, 0, 0.3));\n",
              "      fill: #FFFFFF;\n",
              "    }\n",
              "  </style>\n",
              "\n",
              "      <script>\n",
              "        const buttonEl =\n",
              "          document.querySelector('#df-6ac1ac69-e5ba-4560-9970-333786c3ae7c button.colab-df-convert');\n",
              "        buttonEl.style.display =\n",
              "          google.colab.kernel.accessAllowed ? 'block' : 'none';\n",
              "\n",
              "        async function convertToInteractive(key) {\n",
              "          const element = document.querySelector('#df-6ac1ac69-e5ba-4560-9970-333786c3ae7c');\n",
              "          const dataTable =\n",
              "            await google.colab.kernel.invokeFunction('convertToInteractive',\n",
              "                                                     [key], {});\n",
              "          if (!dataTable) return;\n",
              "\n",
              "          const docLinkHtml = 'Like what you see? Visit the ' +\n",
              "            '<a target=\"_blank\" href=https://colab.research.google.com/notebooks/data_table.ipynb>data table notebook</a>'\n",
              "            + ' to learn more about interactive tables.';\n",
              "          element.innerHTML = '';\n",
              "          dataTable['output_type'] = 'display_data';\n",
              "          await google.colab.output.renderOutput(dataTable, element);\n",
              "          const docLink = document.createElement('div');\n",
              "          docLink.innerHTML = docLinkHtml;\n",
              "          element.appendChild(docLink);\n",
              "        }\n",
              "      </script>\n",
              "    </div>\n",
              "  </div>\n",
              "  "
            ]
          },
          "metadata": {},
          "execution_count": 64
        }
      ],
      "source": [
        "df['cluster'] = y_predicted\n",
        "df.head(8)"
      ]
    },
    {
      "cell_type": "code",
      "execution_count": null,
      "id": "15cc74ae",
      "metadata": {
        "scrolled": false,
        "colab": {
          "base_uri": "https://localhost:8080/",
          "height": 296
        },
        "id": "15cc74ae",
        "outputId": "5072a6e5-2b42-4762-cfc3-560847351e9f"
      },
      "outputs": [
        {
          "output_type": "execute_result",
          "data": {
            "text/plain": [
              "Text(0, 0.5, 'Yearly Gallons Per Capita')"
            ]
          },
          "metadata": {},
          "execution_count": 65
        },
        {
          "output_type": "display_data",
          "data": {
            "text/plain": [
              "<Figure size 432x288 with 1 Axes>"
            ],
            "image/png": "[encoded data removed]"
          },
          "metadata": {
            "needs_background": "light"
          }
        }
      ],
      "source": [
        "df1 = df[df.cluster==0]\n",
        "df2 = df[df.cluster==1]\n",
        "\n",
        "plt.scatter(df1['Daily Oil Consumption (Barrels)'], df1['Yearly Gallons Per Capita'], color='blue')\n",
        "plt.scatter(df2['Daily Oil Consumption (Barrels)'], df2['Yearly Gallons Per Capita'], color='red')\n",
        "\n",
        "plt.xlabel('Daily Oil Consumption (Barrels)')\n",
        "plt.ylabel('Yearly Gallons Per Capita')"
      ]
    },
    {
      "cell_type": "code",
      "execution_count": null,
      "id": "5d58d23b",
      "metadata": {
        "scrolled": true,
        "colab": {
          "base_uri": "https://localhost:8080/"
        },
        "id": "5d58d23b",
        "outputId": "f556d1c1-a638-4430-9127-21c3abfcf9ce"
      },
      "outputs": [
        {
          "output_type": "execute_result",
          "data": {
            "text/plain": [
              "122574921686667.3"
            ]
          },
          "metadata": {},
          "execution_count": 66
        }
      ],
      "source": [
        "km.inertia_"
      ]
    },
    {
      "cell_type": "code",
      "execution_count": null,
      "id": "5c4501e5",
      "metadata": {
        "scrolled": true,
        "id": "5c4501e5"
      },
      "outputs": [],
      "source": [
        "# used to find the distance between observations within the cluster by calculating the sum of squares.\n",
        "WCSS=[]\n",
        "\n",
        "for i in range (1,9):\n",
        "    km=KMeans(i)\n",
        "    km.fit(df[['Daily Oil Consumption (Barrels)']])\n",
        "    WC=km.inertia_\n",
        "    WCSS.append(WC)"
      ]
    },
    {
      "cell_type": "code",
      "execution_count": null,
      "id": "61eadf58",
      "metadata": {
        "colab": {
          "base_uri": "https://localhost:8080/"
        },
        "id": "61eadf58",
        "outputId": "5ba42472-2314-4eac-bf07-abfa0b5e6ccf"
      },
      "outputs": [
        {
          "output_type": "execute_result",
          "data": {
            "text/plain": [
              "[621434404170288.8,\n",
              " 122574887466201.62,\n",
              " 48110364794568.46,\n",
              " 24334791095190.44,\n",
              " 9672796656203.178,\n",
              " 5456822428667.64,\n",
              " 3451462789003.546,\n",
              " 2391570111945.8164]"
            ]
          },
          "metadata": {},
          "execution_count": 68
        }
      ],
      "source": [
        "WCSS"
      ]
    },
    {
      "cell_type": "code",
      "execution_count": null,
      "id": "8cdf618c",
      "metadata": {
        "scrolled": true,
        "colab": {
          "base_uri": "https://localhost:8080/",
          "height": 290
        },
        "id": "8cdf618c",
        "outputId": "1d57fe33-4fd4-4033-bf42-f64827298149"
      },
      "outputs": [
        {
          "output_type": "display_data",
          "data": {
            "text/plain": [
              "<Figure size 432x288 with 1 Axes>"
            ],
            "image/png": "[encoded data removed]"
          },
          "metadata": {
            "needs_background": "light"
          }
        }
      ],
      "source": [
        "No_clusters=range(1,9)\n",
        "plt.plot(No_clusters,WCSS)\n",
        "plt.xlabel('No.of clusters')\n",
        "plt.ylabel('WCSS')\n",
        "plt.show()"
      ]
    },
    {
      "cell_type": "markdown",
      "source": [
        "**Data Set Used** \n",
        "https://www.kaggle.com/datasets/zusmani/petrolgas-prices-worldwide"
      ],
      "metadata": {
        "id": "Fho4lENOAojq"
      },
      "id": "Fho4lENOAojq"
    },
    {
      "cell_type": "code",
      "source": [
        ""
      ],
      "metadata": {
        "id": "9CkzlL4cDnlZ"
      },
      "id": "9CkzlL4cDnlZ",
      "execution_count": null,
      "outputs": []
    }
  ],
  "metadata": {
    "kernelspec": {
      "display_name": "Python 3",
      "language": "python",
      "name": "python3"
    },
    "language_info": {
      "codemirror_mode": {
        "name": "ipython",
        "version": 3
      },
      "file_extension": ".py",
      "mimetype": "text/x-python",
      "name": "python",
      "nbconvert_exporter": "python",
      "pygments_lexer": "ipython3",
      "version": "3.8.8"
    },
    "colab": {
      "name": "KMeans-Error (GARCIA).ipynb",
      "provenance": [],
      "collapsed_sections": [],
      "include_colab_link": true
    }
  },
  "nbformat": 4,
  "nbformat_minor": 5
}